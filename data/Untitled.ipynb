{
 "cells": [
  {
   "cell_type": "markdown",
   "metadata": {},
   "source": [
    "1. cat\n",
    "1. dog\n",
    "1. rabbit"
   ]
  },
  {
   "cell_type": "markdown",
   "metadata": {},
   "source": [
    "*cat\n",
    "*dog"
   ]
  },
  {
   "cell_type": "markdown",
   "metadata": {},
   "source": [
    "- cat\n",
    "- dog"
   ]
  },
  {
   "cell_type": "markdown",
   "metadata": {},
   "source": [
    "* cat\n",
    "* dog"
   ]
  },
  {
   "cell_type": "code",
   "execution_count": 11,
   "metadata": {},
   "outputs": [],
   "source": [
    "weight_kg= 56"
   ]
  },
  {
   "cell_type": "code",
   "execution_count": 12,
   "metadata": {},
   "outputs": [
    {
     "data": {
      "text/plain": [
       "56"
      ]
     },
     "execution_count": 12,
     "metadata": {},
     "output_type": "execute_result"
    }
   ],
   "source": [
    "weight_kg"
   ]
  },
  {
   "cell_type": "code",
   "execution_count": 13,
   "metadata": {},
   "outputs": [
    {
     "name": "stdout",
     "output_type": "stream",
     "text": [
      "56\n",
      "weight is equal to 56\n"
     ]
    }
   ],
   "source": [
    "print (weight_kg)\n",
    "print ('weight is equal to', weight_kg)"
   ]
  },
  {
   "cell_type": "code",
   "execution_count": 14,
   "metadata": {},
   "outputs": [
    {
     "name": "stdout",
     "output_type": "stream",
     "text": [
      "weight in pounts 123.20000000000002\n"
     ]
    }
   ],
   "source": [
    "print ('weight in pounts', 2.2*weight_kg)"
   ]
  },
  {
   "cell_type": "code",
   "execution_count": 15,
   "metadata": {},
   "outputs": [],
   "source": [
    "x = 58"
   ]
  },
  {
   "cell_type": "code",
   "execution_count": 16,
   "metadata": {},
   "outputs": [],
   "source": [
    "y = x"
   ]
  },
  {
   "cell_type": "code",
   "execution_count": 17,
   "metadata": {},
   "outputs": [],
   "source": [
    "x = 2"
   ]
  },
  {
   "cell_type": "code",
   "execution_count": 18,
   "metadata": {},
   "outputs": [
    {
     "name": "stdout",
     "output_type": "stream",
     "text": [
      "x is equal to 2 y is equal to 58\n"
     ]
    }
   ],
   "source": [
    "print('x is equal to', x, 'y is equal to', y)"
   ]
  },
  {
   "cell_type": "code",
   "execution_count": 29,
   "metadata": {},
   "outputs": [],
   "source": [
    "a = '242'"
   ]
  },
  {
   "cell_type": "code",
   "execution_count": 31,
   "metadata": {},
   "outputs": [
    {
     "data": {
      "text/plain": [
       "'4'"
      ]
     },
     "execution_count": 31,
     "metadata": {},
     "output_type": "execute_result"
    }
   ],
   "source": [
    "a[1]"
   ]
  },
  {
   "cell_type": "code",
   "execution_count": 23,
   "metadata": {},
   "outputs": [
    {
     "data": {
      "text/plain": [
       "'gram'"
      ]
     },
     "execution_count": 23,
     "metadata": {},
     "output_type": "execute_result"
    }
   ],
   "source": [
    "weight_unit = 'kilogram'\n",
    "weight_unit[4:8]"
   ]
  },
  {
   "cell_type": "code",
   "execution_count": 32,
   "metadata": {},
   "outputs": [],
   "source": [
    "b = 'd1c2'"
   ]
  },
  {
   "cell_type": "code",
   "execution_count": 33,
   "metadata": {},
   "outputs": [],
   "source": [
    "atom_name = 'carbon'"
   ]
  },
  {
   "cell_type": "code",
   "execution_count": 37,
   "metadata": {},
   "outputs": [
    {
     "data": {
      "text/plain": [
       "'carb'"
      ]
     },
     "execution_count": 37,
     "metadata": {},
     "output_type": "execute_result"
    }
   ],
   "source": [
    "atom_name[0:4]"
   ]
  },
  {
   "cell_type": "code",
   "execution_count": 38,
   "metadata": {},
   "outputs": [
    {
     "data": {
      "text/plain": [
       "'arbon'"
      ]
     },
     "execution_count": 38,
     "metadata": {},
     "output_type": "execute_result"
    }
   ],
   "source": [
    "atom_name[1:]"
   ]
  },
  {
   "cell_type": "code",
   "execution_count": 39,
   "metadata": {},
   "outputs": [
    {
     "data": {
      "text/plain": [
       "'c'"
      ]
     },
     "execution_count": 39,
     "metadata": {},
     "output_type": "execute_result"
    }
   ],
   "source": [
    "atom_name[:1]"
   ]
  },
  {
   "cell_type": "code",
   "execution_count": 41,
   "metadata": {},
   "outputs": [
    {
     "data": {
      "text/plain": [
       "'carbon'"
      ]
     },
     "execution_count": 41,
     "metadata": {},
     "output_type": "execute_result"
    }
   ],
   "source": [
    "atom_name[:]"
   ]
  },
  {
   "cell_type": "code",
   "execution_count": 42,
   "metadata": {},
   "outputs": [
    {
     "data": {
      "text/plain": [
       "'rbo'"
      ]
     },
     "execution_count": 42,
     "metadata": {},
     "output_type": "execute_result"
    }
   ],
   "source": [
    "atom_name[2:-1]"
   ]
  },
  {
   "cell_type": "code",
   "execution_count": 43,
   "metadata": {},
   "outputs": [
    {
     "name": "stdout",
     "output_type": "stream",
     "text": [
      "6\n"
     ]
    }
   ],
   "source": [
    "print(round(5.6981651))"
   ]
  },
  {
   "cell_type": "code",
   "execution_count": 45,
   "metadata": {},
   "outputs": [
    {
     "name": "stdout",
     "output_type": "stream",
     "text": [
      "2.656\n"
     ]
    }
   ],
   "source": [
    "print(round(2.6562, 3))"
   ]
  },
  {
   "cell_type": "code",
   "execution_count": 47,
   "metadata": {},
   "outputs": [],
   "source": [
    "import math"
   ]
  },
  {
   "cell_type": "code",
   "execution_count": 48,
   "metadata": {},
   "outputs": [
    {
     "name": "stdout",
     "output_type": "stream",
     "text": [
      "C:\\Users\\Mallory\n"
     ]
    }
   ],
   "source": [
    "cd"
   ]
  },
  {
   "cell_type": "code",
   "execution_count": 54,
   "metadata": {},
   "outputs": [],
   "source": [
    "import pandas as pd\n",
    "data = pd.read_csv('Desktop/data/gapminder_gdp_europe.csv')"
   ]
  },
  {
   "cell_type": "code",
   "execution_count": 55,
   "metadata": {},
   "outputs": [
    {
     "name": "stdout",
     "output_type": "stream",
     "text": [
      "                   country  gdpPercap_1952  gdpPercap_1957  gdpPercap_1962  \\\n",
      "0                  Albania     1601.056136     1942.284244     2312.888958   \n",
      "1                  Austria     6137.076492     8842.598030    10750.721110   \n",
      "2                  Belgium     8343.105127     9714.960623    10991.206760   \n",
      "3   Bosnia and Herzegovina      973.533195     1353.989176     1709.683679   \n",
      "4                 Bulgaria     2444.286648     3008.670727     4254.337839   \n",
      "5                  Croatia     3119.236520     4338.231617     5477.890018   \n",
      "6           Czech Republic     6876.140250     8256.343918    10136.867130   \n",
      "7                  Denmark     9692.385245    11099.659350    13583.313510   \n",
      "8                  Finland     6424.519071     7545.415386     9371.842561   \n",
      "9                   France     7029.809327     8662.834898    10560.485530   \n",
      "10                 Germany     7144.114393    10187.826650    12902.462910   \n",
      "11                  Greece     3530.690067     4916.299889     6017.190733   \n",
      "12                 Hungary     5263.673816     6040.180011     7550.359877   \n",
      "13                 Iceland     7267.688428     9244.001412    10350.159060   \n",
      "14                 Ireland     5210.280328     5599.077872     6631.597314   \n",
      "15                   Italy     4931.404155     6248.656232     8243.582340   \n",
      "16              Montenegro     2647.585601     3682.259903     4649.593785   \n",
      "17             Netherlands     8941.571858    11276.193440    12790.849560   \n",
      "18                  Norway    10095.421720    11653.973040    13450.401510   \n",
      "19                  Poland     4029.329699     4734.253019     5338.752143   \n",
      "20                Portugal     3068.319867     3774.571743     4727.954889   \n",
      "21                 Romania     3144.613186     3943.370225     4734.997586   \n",
      "22                  Serbia     3581.459448     4981.090891     6289.629157   \n",
      "23         Slovak Republic     5074.659104     6093.262980     7481.107598   \n",
      "24                Slovenia     4215.041741     5862.276629     7402.303395   \n",
      "25                   Spain     3834.034742     4564.802410     5693.843879   \n",
      "26                  Sweden     8527.844662     9911.878226    12329.441920   \n",
      "27             Switzerland    14734.232750    17909.489730    20431.092700   \n",
      "28                  Turkey     1969.100980     2218.754257     2322.869908   \n",
      "29          United Kingdom     9979.508487    11283.177950    12477.177070   \n",
      "\n",
      "    gdpPercap_1967  gdpPercap_1972  gdpPercap_1977  gdpPercap_1982  \\\n",
      "0      2760.196931     3313.422188     3533.003910     3630.880722   \n",
      "1     12834.602400    16661.625600    19749.422300    21597.083620   \n",
      "2     13149.041190    16672.143560    19117.974480    20979.845890   \n",
      "3      2172.352423     2860.169750     3528.481305     4126.613157   \n",
      "4      5577.002800     6597.494398     7612.240438     8224.191647   \n",
      "5      6960.297861     9164.090127    11305.385170    13221.821840   \n",
      "6     11399.444890    13108.453600    14800.160620    15377.228550   \n",
      "7     15937.211230    18866.207210    20422.901500    21688.040480   \n",
      "8     10921.636260    14358.875900    15605.422830    18533.157610   \n",
      "9     12999.917660    16107.191710    18292.635140    20293.897460   \n",
      "10    14745.625610    18016.180270    20512.921230    22031.532740   \n",
      "11     8513.097016    12724.829570    14195.524280    15268.420890   \n",
      "12     9326.644670    10168.656110    11674.837370    12545.990660   \n",
      "13    13319.895680    15798.063620    19654.962470    23269.607500   \n",
      "14     7655.568963     9530.772896    11150.981130    12618.321410   \n",
      "15    10022.401310    12269.273780    14255.984750    16537.483500   \n",
      "16     5907.850937     7778.414017     9595.929905    11222.587620   \n",
      "17    15363.251360    18794.745670    21209.059200    21399.460460   \n",
      "18    16361.876470    18965.055510    23311.349390    26298.635310   \n",
      "19     6557.152776     8006.506993     9508.141454     8451.531004   \n",
      "20     6361.517993     9022.247417    10172.485720    11753.842910   \n",
      "21     6470.866545     8011.414402     9356.397240     9605.314053   \n",
      "22     7991.707066    10522.067490    12980.669560    15181.092700   \n",
      "23     8412.902397     9674.167626    10922.664040    11348.545850   \n",
      "24     9405.489397    12383.486200    15277.030170    17866.721750   \n",
      "25     7993.512294    10638.751310    13236.921170    13926.169970   \n",
      "26    15258.296970    17832.024640    18855.725210    20667.381250   \n",
      "27    22966.144320    27195.113040    26982.290520    28397.715120   \n",
      "28     2826.356387     3450.696380     4269.122326     4241.356344   \n",
      "29    14142.850890    15895.116410    17428.748460    18232.424520   \n",
      "\n",
      "    gdpPercap_1987  gdpPercap_1992  gdpPercap_1997  gdpPercap_2002  \\\n",
      "0      3738.932735     2497.437901     3193.054604     4604.211737   \n",
      "1     23687.826070    27042.018680    29095.920660    32417.607690   \n",
      "2     22525.563080    25575.570690    27561.196630    30485.883750   \n",
      "3      4314.114757     2546.781445     4766.355904     6018.975239   \n",
      "4      8239.854824     6302.623438     5970.388760     7696.777725   \n",
      "5     13822.583940     8447.794873     9875.604515    11628.388950   \n",
      "6     16310.443400    14297.021220    16048.514240    17596.210220   \n",
      "7     25116.175810    26406.739850    29804.345670    32166.500060   \n",
      "8     21141.012230    20647.164990    23723.950200    28204.590570   \n",
      "9     22066.442140    24703.796150    25889.784870    28926.032340   \n",
      "10    24639.185660    26505.303170    27788.884160    30035.801980   \n",
      "11    16120.528390    17541.496340    18747.698140    22514.254800   \n",
      "12    12986.479980    10535.628550    11712.776800    14843.935560   \n",
      "13    26923.206280    25144.392010    28061.099660    31163.201960   \n",
      "14    13872.866520    17558.815550    24521.947130    34077.049390   \n",
      "15    19207.234820    22013.644860    24675.024460    27968.098170   \n",
      "16    11732.510170     7003.339037     6465.613349     6557.194282   \n",
      "17    23651.323610    26790.949610    30246.130630    33724.757780   \n",
      "18    31540.974800    33965.661150    41283.164330    44683.975250   \n",
      "19     9082.351172     7738.881247    10159.583680    12002.239080   \n",
      "20    13039.308760    16207.266630    17641.031560    19970.907870   \n",
      "21     9696.273295     6598.409903     7346.547557     7885.360081   \n",
      "22    15870.878510     9325.068238     7914.320304     7236.075251   \n",
      "23    12037.267580     9498.467723    12126.230650    13638.778370   \n",
      "24    18678.534920    14214.716810    17161.107350    20660.019360   \n",
      "25    15764.983130    18603.064520    20445.298960    24835.471660   \n",
      "26    23586.929270    23880.016830    25266.594990    29341.630930   \n",
      "27    30281.704590    31871.530300    32135.323010    34480.957710   \n",
      "28     5089.043686     5678.348271     6601.429915     6508.085718   \n",
      "29    21664.787670    22705.092540    26074.531360    29478.999190   \n",
      "\n",
      "    gdpPercap_2007  \n",
      "0      5937.029526  \n",
      "1     36126.492700  \n",
      "2     33692.605080  \n",
      "3      7446.298803  \n",
      "4     10680.792820  \n",
      "5     14619.222720  \n",
      "6     22833.308510  \n",
      "7     35278.418740  \n",
      "8     33207.084400  \n",
      "9     30470.016700  \n",
      "10    32170.374420  \n",
      "11    27538.411880  \n",
      "12    18008.944440  \n",
      "13    36180.789190  \n",
      "14    40675.996350  \n",
      "15    28569.719700  \n",
      "16     9253.896111  \n",
      "17    36797.933320  \n",
      "18    49357.190170  \n",
      "19    15389.924680  \n",
      "20    20509.647770  \n",
      "21    10808.475610  \n",
      "22     9786.534714  \n",
      "23    18678.314350  \n",
      "24    25768.257590  \n",
      "25    28821.063700  \n",
      "26    33859.748350  \n",
      "27    37506.419070  \n",
      "28     8458.276384  \n",
      "29    33203.261280  \n"
     ]
    }
   ],
   "source": [
    "print(data)"
   ]
  },
  {
   "cell_type": "code",
   "execution_count": 56,
   "metadata": {},
   "outputs": [
    {
     "name": "stdout",
     "output_type": "stream",
     "text": [
      "<class 'pandas.core.frame.DataFrame'>\n",
      "RangeIndex: 30 entries, 0 to 29\n",
      "Data columns (total 13 columns):\n",
      "country           30 non-null object\n",
      "gdpPercap_1952    30 non-null float64\n",
      "gdpPercap_1957    30 non-null float64\n",
      "gdpPercap_1962    30 non-null float64\n",
      "gdpPercap_1967    30 non-null float64\n",
      "gdpPercap_1972    30 non-null float64\n",
      "gdpPercap_1977    30 non-null float64\n",
      "gdpPercap_1982    30 non-null float64\n",
      "gdpPercap_1987    30 non-null float64\n",
      "gdpPercap_1992    30 non-null float64\n",
      "gdpPercap_1997    30 non-null float64\n",
      "gdpPercap_2002    30 non-null float64\n",
      "gdpPercap_2007    30 non-null float64\n",
      "dtypes: float64(12), object(1)\n",
      "memory usage: 3.1+ KB\n"
     ]
    }
   ],
   "source": [
    "data.info()"
   ]
  },
  {
   "cell_type": "code",
   "execution_count": 53,
   "metadata": {},
   "outputs": [
    {
     "name": "stdout",
     "output_type": "stream",
     "text": [
      "                        0            1\n",
      "country         Australia  New Zealand\n",
      "gdpPercap_1952    10039.6      10556.6\n",
      "gdpPercap_1957    10949.6      12247.4\n",
      "gdpPercap_1962    12217.2      13175.7\n",
      "gdpPercap_1967    14526.1      14463.9\n",
      "gdpPercap_1972    16788.6        16046\n",
      "gdpPercap_1977    18334.2      16233.7\n",
      "gdpPercap_1982      19477      17632.4\n",
      "gdpPercap_1987    21888.9      19007.2\n",
      "gdpPercap_1992    23424.8      18363.3\n",
      "gdpPercap_1997    26997.9      21050.4\n",
      "gdpPercap_2002    30687.8      23189.8\n",
      "gdpPercap_2007    34435.4        25185\n"
     ]
    }
   ],
   "source": [
    "print(data.T)"
   ]
  },
  {
   "cell_type": "code",
   "execution_count": 57,
   "metadata": {},
   "outputs": [
    {
     "name": "stdout",
     "output_type": "stream",
     "text": [
      "       gdpPercap_1952  gdpPercap_1957  gdpPercap_1962  gdpPercap_1967  \\\n",
      "count       30.000000       30.000000       30.000000       30.000000   \n",
      "mean      5661.057435     6963.012816     8365.486814    10143.823757   \n",
      "std       3114.060493     3677.950146     4199.193906     4724.983889   \n",
      "min        973.533195     1353.989176     1709.683679     2172.352423   \n",
      "25%       3241.132406     4394.874315     5373.536612     6657.939047   \n",
      "50%       5142.469716     6066.721495     7515.733738     9366.067033   \n",
      "75%       7236.794919     9597.220820    10931.085347    13277.182057   \n",
      "max      14734.232750    17909.489730    20431.092700    22966.144320   \n",
      "\n",
      "       gdpPercap_1972  gdpPercap_1977  gdpPercap_1982  gdpPercap_1987  \\\n",
      "count       30.000000       30.000000       30.000000       30.000000   \n",
      "mean     12479.575246    14283.979110    15617.896551    17214.310727   \n",
      "std       5509.691411     5874.464896     6453.234827     7482.957960   \n",
      "min       2860.169750     3528.481305     3630.880722     3738.932735   \n",
      "25%       9057.708095    10360.030300    11449.870115    12274.570680   \n",
      "50%      12326.379990    14225.754515    15322.824720    16215.485895   \n",
      "75%      16523.017127    19052.412163    20901.729730    23321.587723   \n",
      "max      27195.113040    26982.290520    28397.715120    31540.974800   \n",
      "\n",
      "       gdpPercap_1992  gdpPercap_1997  gdpPercap_2002  gdpPercap_2007  \n",
      "count       30.000000       30.000000       30.000000       30.000000  \n",
      "mean     17061.568084    19076.781802    21711.732422    25054.481636  \n",
      "std       9109.804361    10065.457716    11197.355517    11800.339811  \n",
      "min       2497.437901     3193.054604     4604.211737     5937.029526  \n",
      "25%       8667.113214     9946.599306    11721.851483    14811.898210  \n",
      "50%      17550.155945    19596.498550    23674.863230    28054.065790  \n",
      "75%      25034.243045    27189.530312    30373.363307    33817.962533  \n",
      "max      33965.661150    41283.164330    44683.975250    49357.190170  \n"
     ]
    }
   ],
   "source": [
    "print(data.describe())"
   ]
  },
  {
   "cell_type": "code",
   "execution_count": 60,
   "metadata": {},
   "outputs": [
    {
     "name": "stdout",
     "output_type": "stream",
     "text": [
      "0      1601.056136\n",
      "1      6137.076492\n",
      "2      8343.105127\n",
      "3       973.533195\n",
      "4      2444.286648\n",
      "5      3119.236520\n",
      "6      6876.140250\n",
      "7      9692.385245\n",
      "8      6424.519071\n",
      "9      7029.809327\n",
      "10     7144.114393\n",
      "11     3530.690067\n",
      "12     5263.673816\n",
      "13     7267.688428\n",
      "14     5210.280328\n",
      "15     4931.404155\n",
      "16     2647.585601\n",
      "17     8941.571858\n",
      "18    10095.421720\n",
      "19     4029.329699\n",
      "20     3068.319867\n",
      "21     3144.613186\n",
      "22     3581.459448\n",
      "23     5074.659104\n",
      "24     4215.041741\n",
      "25     3834.034742\n",
      "26     8527.844662\n",
      "27    14734.232750\n",
      "28     1969.100980\n",
      "29     9979.508487\n",
      "Name: gdpPercap_1952, dtype: float64\n"
     ]
    }
   ],
   "source": [
    "print(data.gdpPercap_1952)"
   ]
  },
  {
   "cell_type": "code",
   "execution_count": 64,
   "metadata": {},
   "outputs": [],
   "source": [
    "data2 = pd.read_csv('Desktop/data/gapminder_gdp_asia.csv', index_col = \"country\")"
   ]
  },
  {
   "cell_type": "code",
   "execution_count": 65,
   "metadata": {},
   "outputs": [
    {
     "name": "stdout",
     "output_type": "stream",
     "text": [
      "       gdpPercap_1952  gdpPercap_1957  gdpPercap_1962  gdpPercap_1967  \\\n",
      "count       30.000000       30.000000       30.000000       30.000000   \n",
      "mean      5661.057435     6963.012816     8365.486814    10143.823757   \n",
      "std       3114.060493     3677.950146     4199.193906     4724.983889   \n",
      "min        973.533195     1353.989176     1709.683679     2172.352423   \n",
      "25%       3241.132406     4394.874315     5373.536612     6657.939047   \n",
      "50%       5142.469716     6066.721495     7515.733738     9366.067033   \n",
      "75%       7236.794919     9597.220820    10931.085347    13277.182057   \n",
      "max      14734.232750    17909.489730    20431.092700    22966.144320   \n",
      "\n",
      "       gdpPercap_1972  gdpPercap_1977  gdpPercap_1982  gdpPercap_1987  \\\n",
      "count       30.000000       30.000000       30.000000       30.000000   \n",
      "mean     12479.575246    14283.979110    15617.896551    17214.310727   \n",
      "std       5509.691411     5874.464896     6453.234827     7482.957960   \n",
      "min       2860.169750     3528.481305     3630.880722     3738.932735   \n",
      "25%       9057.708095    10360.030300    11449.870115    12274.570680   \n",
      "50%      12326.379990    14225.754515    15322.824720    16215.485895   \n",
      "75%      16523.017127    19052.412163    20901.729730    23321.587723   \n",
      "max      27195.113040    26982.290520    28397.715120    31540.974800   \n",
      "\n",
      "       gdpPercap_1992  gdpPercap_1997  gdpPercap_2002  gdpPercap_2007  \n",
      "count       30.000000       30.000000       30.000000       30.000000  \n",
      "mean     17061.568084    19076.781802    21711.732422    25054.481636  \n",
      "std       9109.804361    10065.457716    11197.355517    11800.339811  \n",
      "min       2497.437901     3193.054604     4604.211737     5937.029526  \n",
      "25%       8667.113214     9946.599306    11721.851483    14811.898210  \n",
      "50%      17550.155945    19596.498550    23674.863230    28054.065790  \n",
      "75%      25034.243045    27189.530312    30373.363307    33817.962533  \n",
      "max      33965.661150    41283.164330    44683.975250    49357.190170  \n"
     ]
    }
   ],
   "source": [
    "print(data.describe())"
   ]
  },
  {
   "cell_type": "code",
   "execution_count": null,
   "metadata": {},
   "outputs": [],
   "source": []
  }
 ],
 "metadata": {
  "kernelspec": {
   "display_name": "Python 3",
   "language": "python",
   "name": "python3"
  },
  "language_info": {
   "codemirror_mode": {
    "name": "ipython",
    "version": 3
   },
   "file_extension": ".py",
   "mimetype": "text/x-python",
   "name": "python",
   "nbconvert_exporter": "python",
   "pygments_lexer": "ipython3",
   "version": "3.6.4"
  }
 },
 "nbformat": 4,
 "nbformat_minor": 2
}
